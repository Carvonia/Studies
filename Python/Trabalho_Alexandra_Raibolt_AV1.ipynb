{
  "nbformat": 4,
  "nbformat_minor": 0,
  "metadata": {
    "colab": {
      "provenance": []
    },
    "kernelspec": {
      "name": "python3",
      "display_name": "Python 3"
    },
    "language_info": {
      "name": "python"
    }
  },
  "cells": [
    {
      "cell_type": "markdown",
      "source": [
        "Aluno: Gabriel Damázio Pereira.\n",
        "\n",
        "Matricula: 06004493\n",
        "\n",
        "\n",
        "\n",
        "\n",
        "Exercício 1:"
      ],
      "metadata": {
        "id": "jancU8gj8DY-"
      }
    },
    {
      "cell_type": "code",
      "source": [
        "for numero in range(10, 201, 2):\n",
        "    print(numero)"
      ],
      "metadata": {
        "id": "BVmG6yZv8GM7"
      },
      "execution_count": null,
      "outputs": []
    },
    {
      "cell_type": "markdown",
      "source": [
        "2:"
      ],
      "metadata": {
        "id": "P0Yz168G8b3g"
      }
    },
    {
      "cell_type": "code",
      "source": [
        "import random\n",
        "\n",
        "numero_maior = 1\n",
        "for _ in range(100):\n",
        "    numero_aleatorio = random.randint(1, 1000)\n",
        "    if numero_aleatorio > numero_maior:\n",
        "        numero_maior = numero_aleatorio\n",
        "\n",
        "print(\"O maior valor entre os 100 números sorteados é:\", numero_maior)"
      ],
      "metadata": {
        "colab": {
          "base_uri": "https://localhost:8080/"
        },
        "id": "qYrZ0v0T8cuv",
        "outputId": "40850228-e41d-4a78-d577-365ffb517f07"
      },
      "execution_count": 2,
      "outputs": [
        {
          "output_type": "stream",
          "name": "stdout",
          "text": [
            "O maior valor entre os 100 números sorteados é: 991\n"
          ]
        }
      ]
    },
    {
      "cell_type": "markdown",
      "source": [
        "3:"
      ],
      "metadata": {
        "id": "8dJ2OaF08lCk"
      }
    },
    {
      "cell_type": "code",
      "source": [
        "import random\n",
        "\n",
        "for _ in range(50):\n",
        "    numero_aleatorio = random.randint(1, 100)\n",
        "    print(numero_aleatorio)"
      ],
      "metadata": {
        "id": "qdRqQIWJ8l1n"
      },
      "execution_count": null,
      "outputs": []
    },
    {
      "cell_type": "markdown",
      "source": [
        "4:"
      ],
      "metadata": {
        "id": "-XUkd_iL8pjH"
      }
    },
    {
      "cell_type": "code",
      "source": [
        "num_pessoas = int(input(\"Quantas pessoas no grupo? \"))\n",
        "\n",
        "\n",
        "soma_idades = 0\n",
        "maior_idade = -1\n",
        "menor_idade = float('inf')\n",
        "contagem_maiores_idade = 0\n",
        "\n",
        "for i in range(num_pessoas):\n",
        "    idade = int(input(f\"Digite a idade da pessoa {i + 1}: \"))\n",
        "    soma_idades += idade\n",
        "    if idade > maior_idade:\n",
        "        maior_idade = idade\n",
        "    if idade < menor_idade:\n",
        "        menor_idade = idade\n",
        "    if idade >= 18:\n",
        "        contagem_maiores_idade += 1\n",
        "media_idades = soma_idades / num_pessoas\n",
        "\n",
        "print(f\"Média das idades: {media_idades:.2f}\")\n",
        "print(f\"Maior idade: {maior_idade}\")\n",
        "print(f\"Menor idade: {menor_idade}\")\n",
        "print(f\"Pessoas maiores de idade: {contagem_maiores_idade}\")"
      ],
      "metadata": {
        "colab": {
          "base_uri": "https://localhost:8080/"
        },
        "id": "tjqwDDQi8qDF",
        "outputId": "e02b3964-0b3f-4255-9d9d-7a32685e9bcc"
      },
      "execution_count": 5,
      "outputs": [
        {
          "output_type": "stream",
          "name": "stdout",
          "text": [
            "Quantas pessoas no grupo? 5\n",
            "Digite a idade da pessoa 1: 15\n",
            "Digite a idade da pessoa 2: 25\n",
            "Digite a idade da pessoa 3: 18\n",
            "Digite a idade da pessoa 4: 16\n",
            "Digite a idade da pessoa 5: 24\n",
            "Média das idades: 19.60\n",
            "Maior idade: 25\n",
            "Menor idade: 15\n",
            "Pessoas maiores de idade: 3\n"
          ]
        }
      ]
    },
    {
      "cell_type": "markdown",
      "source": [
        "5:"
      ],
      "metadata": {
        "id": "_SFPnVSF-e1p"
      }
    },
    {
      "cell_type": "code",
      "source": [
        "import random\n",
        "\n",
        "numero_sorteado = random.randint(1, 100)\n",
        "\n",
        "tentativas = 0\n",
        "\n",
        "print(\"Esse é um jogo de adivinhação. Tente achar o valor de 1 a 100\")\n",
        "\n",
        "while tentativas < 10:\n",
        "    tentativa = int(input(\"Tentativa {}/10: Digite um número: \".format(tentativas + 1)))\n",
        "\n",
        "    if tentativa == numero_sorteado:\n",
        "        print(\"Parabéns! Você adivinhou o número em {} tentativas.\".format(tentativas + 1))\n",
        "        break\n",
        "    elif tentativa < numero_sorteado:\n",
        "        print(\"Tente novamente. O número é maior.\")\n",
        "    else:\n",
        "        print(\"Tente novamente. O número é menor.\")\n",
        "\n",
        "    tentativas += 1\n",
        "\n",
        "if tentativas == 10:\n",
        "    print(\"Você esgotou todas as tentativas\")"
      ],
      "metadata": {
        "colab": {
          "base_uri": "https://localhost:8080/",
          "height": 423
        },
        "id": "XCDzxZRZ-fnI",
        "outputId": "2e1018d3-c5bf-4b3e-9677-8f4464e8f002"
      },
      "execution_count": 8,
      "outputs": [
        {
          "output_type": "stream",
          "name": "stdout",
          "text": [
            "Esse é um jogo de adivinhação. Tente achar o valor de 1 a 100\n"
          ]
        },
        {
          "output_type": "error",
          "ename": "KeyboardInterrupt",
          "evalue": "ignored",
          "traceback": [
            "\u001b[0;31m---------------------------------------------------------------------------\u001b[0m",
            "\u001b[0;31mKeyboardInterrupt\u001b[0m                         Traceback (most recent call last)",
            "\u001b[0;32m<ipython-input-8-c6a044cd8a5e>\u001b[0m in \u001b[0;36m<cell line: 9>\u001b[0;34m()\u001b[0m\n\u001b[1;32m      8\u001b[0m \u001b[0;34m\u001b[0m\u001b[0m\n\u001b[1;32m      9\u001b[0m \u001b[0;32mwhile\u001b[0m \u001b[0mtentativas\u001b[0m \u001b[0;34m<\u001b[0m \u001b[0;36m10\u001b[0m\u001b[0;34m:\u001b[0m\u001b[0;34m\u001b[0m\u001b[0;34m\u001b[0m\u001b[0m\n\u001b[0;32m---> 10\u001b[0;31m     \u001b[0mtentativa\u001b[0m \u001b[0;34m=\u001b[0m \u001b[0mint\u001b[0m\u001b[0;34m(\u001b[0m\u001b[0minput\u001b[0m\u001b[0;34m(\u001b[0m\u001b[0;34m\"Tentativa {}/10: Digite um número: \"\u001b[0m\u001b[0;34m.\u001b[0m\u001b[0mformat\u001b[0m\u001b[0;34m(\u001b[0m\u001b[0mtentativas\u001b[0m \u001b[0;34m+\u001b[0m \u001b[0;36m1\u001b[0m\u001b[0;34m)\u001b[0m\u001b[0;34m)\u001b[0m\u001b[0;34m)\u001b[0m\u001b[0;34m\u001b[0m\u001b[0;34m\u001b[0m\u001b[0m\n\u001b[0m\u001b[1;32m     11\u001b[0m \u001b[0;34m\u001b[0m\u001b[0m\n\u001b[1;32m     12\u001b[0m     \u001b[0;32mif\u001b[0m \u001b[0mtentativa\u001b[0m \u001b[0;34m==\u001b[0m \u001b[0mnumero_sorteado\u001b[0m\u001b[0;34m:\u001b[0m\u001b[0;34m\u001b[0m\u001b[0;34m\u001b[0m\u001b[0m\n",
            "\u001b[0;32m/usr/local/lib/python3.10/dist-packages/ipykernel/kernelbase.py\u001b[0m in \u001b[0;36mraw_input\u001b[0;34m(self, prompt)\u001b[0m\n\u001b[1;32m    849\u001b[0m                 \u001b[0;34m\"raw_input was called, but this frontend does not support input requests.\"\u001b[0m\u001b[0;34m\u001b[0m\u001b[0;34m\u001b[0m\u001b[0m\n\u001b[1;32m    850\u001b[0m             )\n\u001b[0;32m--> 851\u001b[0;31m         return self._input_request(str(prompt),\n\u001b[0m\u001b[1;32m    852\u001b[0m             \u001b[0mself\u001b[0m\u001b[0;34m.\u001b[0m\u001b[0m_parent_ident\u001b[0m\u001b[0;34m,\u001b[0m\u001b[0;34m\u001b[0m\u001b[0;34m\u001b[0m\u001b[0m\n\u001b[1;32m    853\u001b[0m             \u001b[0mself\u001b[0m\u001b[0;34m.\u001b[0m\u001b[0m_parent_header\u001b[0m\u001b[0;34m,\u001b[0m\u001b[0;34m\u001b[0m\u001b[0;34m\u001b[0m\u001b[0m\n",
            "\u001b[0;32m/usr/local/lib/python3.10/dist-packages/ipykernel/kernelbase.py\u001b[0m in \u001b[0;36m_input_request\u001b[0;34m(self, prompt, ident, parent, password)\u001b[0m\n\u001b[1;32m    893\u001b[0m             \u001b[0;32mexcept\u001b[0m \u001b[0mKeyboardInterrupt\u001b[0m\u001b[0;34m:\u001b[0m\u001b[0;34m\u001b[0m\u001b[0;34m\u001b[0m\u001b[0m\n\u001b[1;32m    894\u001b[0m                 \u001b[0;31m# re-raise KeyboardInterrupt, to truncate traceback\u001b[0m\u001b[0;34m\u001b[0m\u001b[0;34m\u001b[0m\u001b[0m\n\u001b[0;32m--> 895\u001b[0;31m                 \u001b[0;32mraise\u001b[0m \u001b[0mKeyboardInterrupt\u001b[0m\u001b[0;34m(\u001b[0m\u001b[0;34m\"Interrupted by user\"\u001b[0m\u001b[0;34m)\u001b[0m \u001b[0;32mfrom\u001b[0m \u001b[0;32mNone\u001b[0m\u001b[0;34m\u001b[0m\u001b[0;34m\u001b[0m\u001b[0m\n\u001b[0m\u001b[1;32m    896\u001b[0m             \u001b[0;32mexcept\u001b[0m \u001b[0mException\u001b[0m \u001b[0;32mas\u001b[0m \u001b[0me\u001b[0m\u001b[0;34m:\u001b[0m\u001b[0;34m\u001b[0m\u001b[0;34m\u001b[0m\u001b[0m\n\u001b[1;32m    897\u001b[0m                 \u001b[0mself\u001b[0m\u001b[0;34m.\u001b[0m\u001b[0mlog\u001b[0m\u001b[0;34m.\u001b[0m\u001b[0mwarning\u001b[0m\u001b[0;34m(\u001b[0m\u001b[0;34m\"Invalid Message:\"\u001b[0m\u001b[0;34m,\u001b[0m \u001b[0mexc_info\u001b[0m\u001b[0;34m=\u001b[0m\u001b[0;32mTrue\u001b[0m\u001b[0;34m)\u001b[0m\u001b[0;34m\u001b[0m\u001b[0;34m\u001b[0m\u001b[0m\n",
            "\u001b[0;31mKeyboardInterrupt\u001b[0m: Interrupted by user"
          ]
        }
      ]
    },
    {
      "cell_type": "markdown",
      "source": [
        "6:\n"
      ],
      "metadata": {
        "id": "HT5qLaBg_Wj3"
      }
    },
    {
      "cell_type": "code",
      "source": [
        "soma_idade_homens = 0\n",
        "soma_idade_mulheres = 0\n",
        "casais_menos_de_2_anos = 0\n",
        "total_casais = 2500\n",
        "\n",
        "for _ in range(total_casais):\n",
        "    idade_namorado = int(input(\"Digite a idade do namorado: \"))\n",
        "    idade_namorada = int(input(\"Digite a idade da namorada: \"))\n",
        "    tempo_de_namoro = int(input(\"Digite o tempo de namoro (em anos): \"))\n",
        "\n",
        "    soma_idade_homens += idade_namorado\n",
        "    soma_idade_mulheres += idade_namorada\n",
        "\n",
        "    if tempo_de_namoro < 2:\n",
        "        casais_menos_de_2_anos += 1\n",
        "\n",
        "media_idade_homens = soma_idade_homens / total_casais\n",
        "media_idade_mulheres = soma_idade_mulheres / total_casais\n",
        "\n",
        "print(\"Média de idade entre os homens:\", media_idade_homens)\n",
        "print(\"Média de idade entre as mulheres:\", media_idade_mulheres)\n",
        "print(\"Quantidade de casais com menos de 2 anos de namoro:\", casais_menos_de_2_anos)"
      ],
      "metadata": {
        "id": "cKHCR2nE_tUR"
      },
      "execution_count": null,
      "outputs": []
    },
    {
      "cell_type": "markdown",
      "source": [
        "7:\n"
      ],
      "metadata": {
        "id": "GGv5S7s9AuF3"
      }
    },
    {
      "cell_type": "code",
      "source": [
        "total_ingressos_disponiveis = 0\n",
        "total_ingressos_vendidos = 0\n",
        "total_jogos_90porcent_vendido = 0\n",
        "total_jogos = 4\n",
        "\n",
        "for jogo in range(1, total_jogos + 1):\n",
        "    ingressos_disponiveis = int(input(f\"Digite o total de ingressos disponíveis para o jogo {jogo}: \"))\n",
        "    ingressos_vendidos = int(input(f\"Digite o total de ingressos vendidos para o jogo {jogo}: \"))\n",
        "\n",
        "    total_ingressos_disponiveis += ingressos_disponiveis\n",
        "    total_ingressos_vendidos += ingressos_vendidos\n",
        "\n",
        "    if ingressos_vendidos >= 0.9 * ingressos_disponiveis:\n",
        "        total_jogos_90porcent_vendido += 1\n",
        "\n",
        "total_ingressos_nao_vendidos = total_ingressos_disponiveis - total_ingressos_vendidos\n",
        "\n",
        "print(\"Total de ingressos disponíveis na Copa:\", total_ingressos_disponiveis)\n",
        "print(\"Total de ingressos vendidos na Copa:\", total_ingressos_vendidos)\n",
        "print(\"Total de ingressos não vendidos na Copa:\", total_ingressos_nao_vendidos)\n",
        "print(\"Total de jogos com mais de 90% dos ingressos vendidos:\", total_jogos_90porcent_vendido)\n"
      ],
      "metadata": {
        "colab": {
          "base_uri": "https://localhost:8080/"
        },
        "id": "-c_w7uWwAvNh",
        "outputId": "ac198299-4867-45e6-bfc8-45fb14936d29"
      },
      "execution_count": 11,
      "outputs": [
        {
          "output_type": "stream",
          "name": "stdout",
          "text": [
            "Digite o total de ingressos disponíveis para o jogo 1: 123\n",
            "Digite o total de ingressos vendidos para o jogo 1: 2333\n",
            "Digite o total de ingressos disponíveis para o jogo 2: 5\n",
            "Digite o total de ingressos vendidos para o jogo 2: 10\n",
            "Digite o total de ingressos disponíveis para o jogo 3: 3\n",
            "Digite o total de ingressos vendidos para o jogo 3: 2\n",
            "Digite o total de ingressos disponíveis para o jogo 4: 123123123\n",
            "Digite o total de ingressos vendidos para o jogo 4: 123123123123\n",
            "Total de ingressos disponíveis na Copa: 123123254\n",
            "Total de ingressos vendidos na Copa: 123123125468\n",
            "Total de ingressos não vendidos na Copa: -123000002214\n",
            "Total de jogos com mais de 90% dos ingressos vendidos: 3\n"
          ]
        }
      ]
    },
    {
      "cell_type": "markdown",
      "source": [
        "8:"
      ],
      "metadata": {
        "id": "_FZL2wZeBSnF"
      }
    },
    {
      "cell_type": "code",
      "source": [
        "vendas_tipo_1 = 0\n",
        "vendas_tipo_2 = 0\n",
        "vendas_tipo_3 = 0\n",
        "valor_vendas_tipo_1 = 0\n",
        "valor_vendas_tipo_2 = 0\n",
        "valor_vendas_tipo_3 = 0\n",
        "valor_total_vendido = 0\n",
        "maior_venda = 0\n",
        "\n",
        "for _ in range(1000):\n",
        "    tipo_produto = int(input(\"Digite o tipo de produto (1, 2 ou 3): \"))\n",
        "    valor_venda = float(input(\"Digite o valor da venda: \"))\n",
        "\n",
        "    if tipo_produto == 1:\n",
        "        vendas_tipo_1 += 1\n",
        "        valor_vendas_tipo_1 += valor_venda\n",
        "    elif tipo_produto == 2:\n",
        "        vendas_tipo_2 += 1\n",
        "        valor_vendas_tipo_2 += valor_venda\n",
        "    elif tipo_produto == 3:\n",
        "        vendas_tipo_3 += 1\n",
        "        valor_vendas_tipo_3 += valor_venda\n",
        "\n",
        "    valor_total_vendido += valor_venda\n",
        "\n",
        "    if valor_venda > maior_venda:\n",
        "        maior_venda = valor_venda\n",
        "\n",
        "print(\"Quantidade de vendas de tipo 1:\", vendas_tipo_1)\n",
        "print(\"Quantidade de vendas de tipo 2:\", vendas_tipo_2)\n",
        "print(\"Quantidade de vendas de tipo 3:\", vendas_tipo_3)\n",
        "print(\"Valor vendido de tipo 1:\", valor_vendas_tipo_1)\n",
        "print(\"Valor vendido de tipo 2:\", valor_vendas_tipo_2)\n",
        "print(\"Valor vendido de tipo 3:\", valor_vendas_tipo_3)\n",
        "print(\"Valor total vendido na loja:\", valor_total_vendido)\n",
        "print(\"Valor da maior venda:\", maior_venda)"
      ],
      "metadata": {
        "colab": {
          "base_uri": "https://localhost:8080/",
          "height": 404
        },
        "id": "hLhFNyYfBThp",
        "outputId": "96091426-3dc1-41b9-aab2-3757b0b78ca4"
      },
      "execution_count": 12,
      "outputs": [
        {
          "output_type": "error",
          "ename": "KeyboardInterrupt",
          "evalue": "ignored",
          "traceback": [
            "\u001b[0;31m---------------------------------------------------------------------------\u001b[0m",
            "\u001b[0;31mKeyboardInterrupt\u001b[0m                         Traceback (most recent call last)",
            "\u001b[0;32m<ipython-input-12-4c1426f8921c>\u001b[0m in \u001b[0;36m<cell line: 10>\u001b[0;34m()\u001b[0m\n\u001b[1;32m      9\u001b[0m \u001b[0;34m\u001b[0m\u001b[0m\n\u001b[1;32m     10\u001b[0m \u001b[0;32mfor\u001b[0m \u001b[0m_\u001b[0m \u001b[0;32min\u001b[0m \u001b[0mrange\u001b[0m\u001b[0;34m(\u001b[0m\u001b[0;36m1000\u001b[0m\u001b[0;34m)\u001b[0m\u001b[0;34m:\u001b[0m\u001b[0;34m\u001b[0m\u001b[0;34m\u001b[0m\u001b[0m\n\u001b[0;32m---> 11\u001b[0;31m     \u001b[0mtipo_produto\u001b[0m \u001b[0;34m=\u001b[0m \u001b[0mint\u001b[0m\u001b[0;34m(\u001b[0m\u001b[0minput\u001b[0m\u001b[0;34m(\u001b[0m\u001b[0;34m\"Digite o tipo de produto (1, 2 ou 3): \"\u001b[0m\u001b[0;34m)\u001b[0m\u001b[0;34m)\u001b[0m\u001b[0;34m\u001b[0m\u001b[0;34m\u001b[0m\u001b[0m\n\u001b[0m\u001b[1;32m     12\u001b[0m     \u001b[0mvalor_venda\u001b[0m \u001b[0;34m=\u001b[0m \u001b[0mfloat\u001b[0m\u001b[0;34m(\u001b[0m\u001b[0minput\u001b[0m\u001b[0;34m(\u001b[0m\u001b[0;34m\"Digite o valor da venda: \"\u001b[0m\u001b[0;34m)\u001b[0m\u001b[0;34m)\u001b[0m\u001b[0;34m\u001b[0m\u001b[0;34m\u001b[0m\u001b[0m\n\u001b[1;32m     13\u001b[0m \u001b[0;34m\u001b[0m\u001b[0m\n",
            "\u001b[0;32m/usr/local/lib/python3.10/dist-packages/ipykernel/kernelbase.py\u001b[0m in \u001b[0;36mraw_input\u001b[0;34m(self, prompt)\u001b[0m\n\u001b[1;32m    849\u001b[0m                 \u001b[0;34m\"raw_input was called, but this frontend does not support input requests.\"\u001b[0m\u001b[0;34m\u001b[0m\u001b[0;34m\u001b[0m\u001b[0m\n\u001b[1;32m    850\u001b[0m             )\n\u001b[0;32m--> 851\u001b[0;31m         return self._input_request(str(prompt),\n\u001b[0m\u001b[1;32m    852\u001b[0m             \u001b[0mself\u001b[0m\u001b[0;34m.\u001b[0m\u001b[0m_parent_ident\u001b[0m\u001b[0;34m,\u001b[0m\u001b[0;34m\u001b[0m\u001b[0;34m\u001b[0m\u001b[0m\n\u001b[1;32m    853\u001b[0m             \u001b[0mself\u001b[0m\u001b[0;34m.\u001b[0m\u001b[0m_parent_header\u001b[0m\u001b[0;34m,\u001b[0m\u001b[0;34m\u001b[0m\u001b[0;34m\u001b[0m\u001b[0m\n",
            "\u001b[0;32m/usr/local/lib/python3.10/dist-packages/ipykernel/kernelbase.py\u001b[0m in \u001b[0;36m_input_request\u001b[0;34m(self, prompt, ident, parent, password)\u001b[0m\n\u001b[1;32m    893\u001b[0m             \u001b[0;32mexcept\u001b[0m \u001b[0mKeyboardInterrupt\u001b[0m\u001b[0;34m:\u001b[0m\u001b[0;34m\u001b[0m\u001b[0;34m\u001b[0m\u001b[0m\n\u001b[1;32m    894\u001b[0m                 \u001b[0;31m# re-raise KeyboardInterrupt, to truncate traceback\u001b[0m\u001b[0;34m\u001b[0m\u001b[0;34m\u001b[0m\u001b[0m\n\u001b[0;32m--> 895\u001b[0;31m                 \u001b[0;32mraise\u001b[0m \u001b[0mKeyboardInterrupt\u001b[0m\u001b[0;34m(\u001b[0m\u001b[0;34m\"Interrupted by user\"\u001b[0m\u001b[0;34m)\u001b[0m \u001b[0;32mfrom\u001b[0m \u001b[0;32mNone\u001b[0m\u001b[0;34m\u001b[0m\u001b[0;34m\u001b[0m\u001b[0m\n\u001b[0m\u001b[1;32m    896\u001b[0m             \u001b[0;32mexcept\u001b[0m \u001b[0mException\u001b[0m \u001b[0;32mas\u001b[0m \u001b[0me\u001b[0m\u001b[0;34m:\u001b[0m\u001b[0;34m\u001b[0m\u001b[0;34m\u001b[0m\u001b[0m\n\u001b[1;32m    897\u001b[0m                 \u001b[0mself\u001b[0m\u001b[0;34m.\u001b[0m\u001b[0mlog\u001b[0m\u001b[0;34m.\u001b[0m\u001b[0mwarning\u001b[0m\u001b[0;34m(\u001b[0m\u001b[0;34m\"Invalid Message:\"\u001b[0m\u001b[0;34m,\u001b[0m \u001b[0mexc_info\u001b[0m\u001b[0;34m=\u001b[0m\u001b[0;32mTrue\u001b[0m\u001b[0;34m)\u001b[0m\u001b[0;34m\u001b[0m\u001b[0;34m\u001b[0m\u001b[0m\n",
            "\u001b[0;31mKeyboardInterrupt\u001b[0m: Interrupted by user"
          ]
        }
      ]
    },
    {
      "cell_type": "markdown",
      "source": [
        "9:\n"
      ],
      "metadata": {
        "id": "AnFJLnu_Bh73"
      }
    },
    {
      "cell_type": "code",
      "source": [
        "# Inicialize variáveis para armazenar as estatísticas\n",
        "quantidade_trabalho = 0\n",
        "valor_trabalho = 0\n",
        "quantidade_heranca = 0\n",
        "valor_heranca = 0\n",
        "quantidade_sorte = 0\n",
        "valor_sorte = 0\n",
        "valor_total_fortunas = 0\n",
        "maior_fortuna = 0\n",
        "\n",
        "for _ in range(3):\n",
        "    valor_fortuna = float(input(\"Digite o valor da fortuna: \"))\n",
        "    origem_fortuna = input(\"Digite a origem da fortuna (trabalho, herança ou sorte): \").lower()\n",
        "\n",
        "    if origem_fortuna == \"trabalho\":\n",
        "        quantidade_trabalho += 1\n",
        "        valor_trabalho += valor_fortuna\n",
        "    elif origem_fortuna == \"herança\":\n",
        "        quantidade_heranca += 1\n",
        "        valor_heranca += valor_fortuna\n",
        "    elif origem_fortuna == \"sorte\":\n",
        "        quantidade_sorte += 1\n",
        "        valor_sorte += valor_fortuna\n",
        "\n",
        "    valor_total_fortunas += valor_fortuna\n",
        "\n",
        "    if valor_fortuna > maior_fortuna:\n",
        "        maior_fortuna = valor_fortuna\n",
        "\n",
        "print(\"Quantidade de fortunas conseguidas com trabalho:\", quantidade_trabalho)\n",
        "print(\"Valor das fortunas conseguidas com trabalho:\", valor_trabalho)\n",
        "print(\"Quantidade de fortunas conseguidas com herança:\", quantidade_heranca)\n",
        "print(\"Valor das fortunas conseguidas com herança:\", valor_heranca)\n",
        "print(\"Quantidade de fortunas conseguidas com sorte:\", quantidade_sorte)\n",
        "print(\"Valor das fortunas conseguidas com sorte:\", valor_sorte)\n",
        "print(\"Valor total da soma das 2000 fortunas:\", valor_total_fortunas)\n",
        "print(\"Valor da maior fortuna:\", maior_fortuna)"
      ],
      "metadata": {
        "id": "PUS5wmKRBin0"
      },
      "execution_count": null,
      "outputs": []
    }
  ]
}